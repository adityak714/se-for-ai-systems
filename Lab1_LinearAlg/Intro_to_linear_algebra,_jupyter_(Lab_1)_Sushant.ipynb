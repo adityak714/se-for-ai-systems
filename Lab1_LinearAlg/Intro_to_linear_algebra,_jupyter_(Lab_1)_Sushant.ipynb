{
 "cells": [
  {
   "cell_type": "code",
   "execution_count": 1,
   "metadata": {
    "id": "qiewptEF71ID"
   },
   "outputs": [],
   "source": [
    "import numpy as np"
   ]
  },
  {
   "cell_type": "code",
   "execution_count": 2,
   "metadata": {
    "id": "anenBde373UP"
   },
   "outputs": [],
   "source": [
    "M = np.array([[1,2,3],[4,5,6],[7,8,9]])"
   ]
  },
  {
   "cell_type": "code",
   "execution_count": 5,
   "metadata": {
    "colab": {
     "base_uri": "https://localhost:8080/"
    },
    "id": "QuB7O2ju8FAH",
    "outputId": "5524d380-e503-43fe-d978-08a9245844ff"
   },
   "outputs": [
    {
     "name": "stdout",
     "output_type": "stream",
     "text": [
      "(3, 3)\n"
     ]
    }
   ],
   "source": [
    "print(M.shape)"
   ]
  },
  {
   "cell_type": "code",
   "execution_count": 4,
   "metadata": {
    "colab": {
     "base_uri": "https://localhost:8080/"
    },
    "id": "d0kKtwaH8JVW",
    "outputId": "372b04f6-29f9-409f-ec2c-f2fd180aca13"
   },
   "outputs": [
    {
     "name": "stdout",
     "output_type": "stream",
     "text": [
      "<class 'numpy.ndarray'>\n"
     ]
    }
   ],
   "source": [
    "print(type(M))"
   ]
  },
  {
   "cell_type": "code",
   "execution_count": 5,
   "metadata": {
    "colab": {
     "base_uri": "https://localhost:8080/"
    },
    "id": "B2Q0xDls8Wuk",
    "outputId": "ab38e624-2e63-4884-9471-2a624a2b3691"
   },
   "outputs": [
    {
     "name": "stdout",
     "output_type": "stream",
     "text": [
      "array shape (3, 3)\n",
      "array type <class 'numpy.ndarray'>\n"
     ]
    }
   ],
   "source": [
    "print(\"array shape\", M.shape)\n",
    "print(\"array type\", type(M))"
   ]
  },
  {
   "cell_type": "code",
   "execution_count": 6,
   "metadata": {
    "colab": {
     "base_uri": "https://localhost:8080/"
    },
    "id": "OHVI07788zFr",
    "outputId": "4a89fe12-d5b3-4720-f5f4-32e5b270ae2a"
   },
   "outputs": [
    {
     "name": "stdout",
     "output_type": "stream",
     "text": [
      "[[1 2 3]\n",
      " [4 5 6]\n",
      " [7 8 9]]\n"
     ]
    }
   ],
   "source": [
    "print(M)"
   ]
  },
  {
   "cell_type": "markdown",
   "metadata": {
    "id": "SetIDqO1Lou3"
   },
   "source": [
    "**Below is a column vector or a column matrix.**"
   ]
  },
  {
   "cell_type": "code",
   "execution_count": 7,
   "metadata": {
    "colab": {
     "base_uri": "https://localhost:8080/"
    },
    "id": "4C1u4cwT89SM",
    "outputId": "6ba887e5-ca31-4a84-96f5-0cb5b3a753e5"
   },
   "outputs": [
    {
     "name": "stdout",
     "output_type": "stream",
     "text": [
      "[[1]\n",
      " [2]\n",
      " [3]]\n"
     ]
    }
   ],
   "source": [
    "v = np.array([[1],[2],[3]])\n",
    "print(v)"
   ]
  },
  {
   "cell_type": "code",
   "execution_count": 8,
   "metadata": {
    "colab": {
     "base_uri": "https://localhost:8080/"
    },
    "id": "qbEBEgko9PMQ",
    "outputId": "d99c0806-2dd1-480c-fa8e-74bc49155a6d"
   },
   "outputs": [
    {
     "name": "stdout",
     "output_type": "stream",
     "text": [
      "(3, 1)\n"
     ]
    }
   ],
   "source": [
    "print(v.shape)"
   ]
  },
  {
   "cell_type": "markdown",
   "metadata": {
    "id": "Gmix5zKdL132"
   },
   "source": [
    "**one-dimensional numpy array**"
   ]
  },
  {
   "cell_type": "code",
   "execution_count": 9,
   "metadata": {
    "colab": {
     "base_uri": "https://localhost:8080/"
    },
    "id": "wxBz-aRH9TIe",
    "outputId": "a6861a2f-b249-4305-b26a-6baa968c3bf9"
   },
   "outputs": [
    {
     "name": "stdout",
     "output_type": "stream",
     "text": [
      "[1 2 3]\n",
      "(3,)\n"
     ]
    }
   ],
   "source": [
    "u = np.array([1,2,3])\n",
    "print(u)\n",
    "print(u.shape)"
   ]
  },
  {
   "cell_type": "markdown",
   "metadata": {
    "id": "CmS-fNmHUfVI"
   },
   "source": [
    "**Row vector**"
   ]
  },
  {
   "cell_type": "code",
   "execution_count": 10,
   "metadata": {
    "colab": {
     "base_uri": "https://localhost:8080/"
    },
    "id": "kDxdn1quUnOZ",
    "outputId": "ca1d3778-6543-46d5-ffe5-972d76486c79"
   },
   "outputs": [
    {
     "name": "stdout",
     "output_type": "stream",
     "text": [
      "[[1 2 3]]\n",
      "(1, 3)\n"
     ]
    }
   ],
   "source": [
    "q = np.array([[1, 2, 3]])\n",
    "print(q)\n",
    "print(q.shape)"
   ]
  },
  {
   "cell_type": "markdown",
   "metadata": {
    "id": "O3sMdwiyU_Hx"
   },
   "source": [
    "**Print one dimentional array, column vector and row vector**"
   ]
  },
  {
   "cell_type": "code",
   "execution_count": 11,
   "metadata": {
    "colab": {
     "base_uri": "https://localhost:8080/"
    },
    "id": "Jn_aU9IY920w",
    "outputId": "5d84d2dd-0caa-4edc-879e-86d719567c31"
   },
   "outputs": [
    {
     "name": "stdout",
     "output_type": "stream",
     "text": [
      "(3,) (3, 1) (1, 3)\n"
     ]
    }
   ],
   "source": [
    "print(u.shape, v.shape, q.shape)"
   ]
  },
  {
   "cell_type": "code",
   "execution_count": 19,
   "metadata": {
    "colab": {
     "base_uri": "https://localhost:8080/"
    },
    "id": "oHurbeRO94NP",
    "outputId": "087ea68f-da0c-4ba0-a2e0-701f1ea6a720"
   },
   "outputs": [
    {
     "name": "stdout",
     "output_type": "stream",
     "text": [
      "[1 2 3]\n",
      "(3,)\n"
     ]
    }
   ],
   "source": [
    "v1 = np.array([1,2,3])\n",
    "print(v1)\n",
    "print(v1.shape)"
   ]
  },
  {
   "cell_type": "code",
   "execution_count": 21,
   "metadata": {
    "colab": {
     "base_uri": "https://localhost:8080/"
    },
    "id": "hxkWlrO7_Eg0",
    "outputId": "6fceaf53-e070-4cbd-f5cd-888410949d18"
   },
   "outputs": [
    {
     "name": "stdout",
     "output_type": "stream",
     "text": [
      "[4 5 6]\n",
      "(3,)\n"
     ]
    }
   ],
   "source": [
    "v2 = np.array([4,5,6])\n",
    "print(v2)\n",
    "print(v2.shape)"
   ]
  },
  {
   "cell_type": "code",
   "execution_count": 22,
   "metadata": {
    "colab": {
     "base_uri": "https://localhost:8080/"
    },
    "id": "qsuN7o6J_NLR",
    "outputId": "eb411e37-f125-4861-f742-541e17ff43dc"
   },
   "outputs": [
    {
     "name": "stdout",
     "output_type": "stream",
     "text": [
      "[7 8 9]\n",
      "(3,)\n"
     ]
    }
   ],
   "source": [
    "v3 = np.array([7,8,9])\n",
    "print(v3)\n",
    "print(v3.shape)"
   ]
  },
  {
   "cell_type": "code",
   "execution_count": 23,
   "metadata": {
    "id": "YKTp_m8d_UMj"
   },
   "outputs": [],
   "source": [
    "M = np.vstack([v1,v2,v3])\n"
   ]
  },
  {
   "cell_type": "code",
   "execution_count": 25,
   "metadata": {
    "colab": {
     "base_uri": "https://localhost:8080/"
    },
    "id": "yFnRNdEI_dR0",
    "outputId": "f420f2fc-d26c-41bc-ea1f-3e981451105b"
   },
   "outputs": [
    {
     "name": "stdout",
     "output_type": "stream",
     "text": [
      "[[1 2 3]\n",
      " [4 5 6]\n",
      " [7 8 9]]\n"
     ]
    }
   ],
   "source": [
    "print(M)"
   ]
  },
  {
   "cell_type": "code",
   "execution_count": null,
   "metadata": {
    "colab": {
     "base_uri": "https://localhost:8080/"
    },
    "id": "VqaLde_J_ldl",
    "outputId": "adaeecba-a584-4f6c-c571-465bbefae29a"
   },
   "outputs": [
    {
     "name": "stdout",
     "output_type": "stream",
     "text": [
      "shape of M (3, 3)\n",
      "type of M <class 'numpy.ndarray'>\n"
     ]
    }
   ],
   "source": [
    "print(\"shape of M\", M.shape)\n",
    "print(\"type of M\", type(M))"
   ]
  },
  {
   "cell_type": "code",
   "execution_count": 26,
   "metadata": {
    "id": "UlKTF6tf_4-w"
   },
   "outputs": [],
   "source": [
    "N = np.hstack([v1,v2,v3])"
   ]
  },
  {
   "cell_type": "code",
   "execution_count": 27,
   "metadata": {
    "colab": {
     "base_uri": "https://localhost:8080/"
    },
    "id": "NHnac6YPAEN2",
    "outputId": "50b715fb-8d7f-425b-e702-891a2805d167"
   },
   "outputs": [
    {
     "name": "stdout",
     "output_type": "stream",
     "text": [
      "[1 2 3 4 5 6 7 8 9]\n"
     ]
    }
   ],
   "source": [
    "print(N)"
   ]
  },
  {
   "cell_type": "code",
   "execution_count": 28,
   "metadata": {
    "colab": {
     "base_uri": "https://localhost:8080/"
    },
    "id": "rpUjL02LAQMX",
    "outputId": "b7770d80-d449-48e6-968d-73850b56e330"
   },
   "outputs": [
    {
     "name": "stdout",
     "output_type": "stream",
     "text": [
      "shape of N (9,)\n",
      "type of N <class 'numpy.ndarray'>\n"
     ]
    }
   ],
   "source": [
    "print(\"shape of N\", N.shape)\n",
    "print(\"type of N\", type(N))"
   ]
  },
  {
   "cell_type": "code",
   "execution_count": 29,
   "metadata": {
    "id": "W6aOt2ZGAVgY"
   },
   "outputs": [],
   "source": [
    "O = np.hstack([[v1],[v2],[v3]])"
   ]
  },
  {
   "cell_type": "code",
   "execution_count": 30,
   "metadata": {
    "colab": {
     "base_uri": "https://localhost:8080/"
    },
    "id": "TB8cAYTAAmHT",
    "outputId": "8bed05f3-8b1a-44b4-d522-b1075796fb2f"
   },
   "outputs": [
    {
     "name": "stdout",
     "output_type": "stream",
     "text": [
      "shape of O (1, 9)\n",
      "type of O <class 'numpy.ndarray'>\n"
     ]
    }
   ],
   "source": [
    "print(\"shape of O\", O.shape)\n",
    "print(\"type of O\", type(O))"
   ]
  },
  {
   "cell_type": "code",
   "execution_count": 31,
   "metadata": {
    "colab": {
     "base_uri": "https://localhost:8080/"
    },
    "id": "-cybz5aeAq1N",
    "outputId": "6ea96c83-e6e4-473f-d4b7-f9b0b8f9450d"
   },
   "outputs": [
    {
     "name": "stdout",
     "output_type": "stream",
     "text": [
      "[[1 2 3 4 5 6 7 8 9]]\n"
     ]
    }
   ],
   "source": [
    "print(O)"
   ]
  },
  {
   "cell_type": "markdown",
   "metadata": {
    "id": "gbfXIiFpA648"
   },
   "source": [
    "**Matrix indexing**"
   ]
  },
  {
   "cell_type": "code",
   "execution_count": null,
   "metadata": {
    "colab": {
     "base_uri": "https://localhost:8080/"
    },
    "id": "o1-0w309AtNa",
    "outputId": "87036651-a6e1-41e5-ef9c-61ce77d30b11"
   },
   "outputs": [
    {
     "name": "stdout",
     "output_type": "stream",
     "text": [
      "6\n"
     ]
    }
   ],
   "source": [
    "print(M[1,2])"
   ]
  },
  {
   "cell_type": "markdown",
   "metadata": {
    "id": "aEu6asU9CAW5"
   },
   "source": [
    "In Python indexing,** rows and columns are zero-based**, **meaning the first row is indexed as 0, the second row as 1, and so on. Similarly, the first column is indexed as 0, the second column as 1, and so on.**\n",
    "\n",
    "So, when you write M[1, 2], you are accessing the element at the second row (index 1) and the third column (index 2), which corresponds to the value 6.\n",
    "\n",
    "To summarize, M[1, 2] is a valid way to access the element in the second row and the third column of the matrix M, which is indeed 6."
   ]
  },
  {
   "cell_type": "code",
   "execution_count": null,
   "metadata": {
    "colab": {
     "base_uri": "https://localhost:8080/"
    },
    "id": "mzG916uQBDk-",
    "outputId": "dd422a69-01c3-4fd5-f45c-ee6245599dd2"
   },
   "outputs": [
    {
     "name": "stdout",
     "output_type": "stream",
     "text": [
      "[[1 2 3]\n",
      " [4 5 6]\n",
      " [7 8 9]]\n"
     ]
    }
   ],
   "source": [
    "print(M)"
   ]
  },
  {
   "cell_type": "code",
   "execution_count": 32,
   "metadata": {
    "colab": {
     "base_uri": "https://localhost:8080/"
    },
    "id": "Vv6E4qprBOyX",
    "outputId": "fade8ee4-9124-4873-a67a-db10cf3169a8"
   },
   "outputs": [
    {
     "name": "stdout",
     "output_type": "stream",
     "text": [
      "1\n"
     ]
    }
   ],
   "source": [
    "print(M[0,0])"
   ]
  },
  {
   "cell_type": "code",
   "execution_count": null,
   "metadata": {
    "colab": {
     "base_uri": "https://localhost:8080/"
    },
    "id": "ZlIOwczGCQPn",
    "outputId": "2fa49f2d-c4fa-4d06-f6fb-91b445eb6675"
   },
   "outputs": [
    {
     "name": "stdout",
     "output_type": "stream",
     "text": [
      "[[2 3]\n",
      " [5 6]]\n"
     ]
    }
   ],
   "source": [
    "print(M[:2,1:3])"
   ]
  },
  {
   "cell_type": "markdown",
   "metadata": {
    "id": "yCnmkoQ5QHzG"
   },
   "source": [
    " It has three steps\n",
    "- `M[:2, 1:3]` is a slicing operation.\n",
    "- `[:2]` specifies the rows to include in the submatrix, which means rows from the beginning (index 0) up to, but not including, index 2 (i.e., rows 0 and 1).\n",
    "- `[1:3]` specifies the columns to include in the submatrix, which means columns from index 1 (inclusive) up to, but not including, index 3 (i.e., columns 1 and 2).\n",
    "\n",
    "So, the expression `M[:2, 1:3]` extracts a submatrix from matrix `M` consisting of rows 0 and 1 (the first two rows) and columns 1 and 2 (the second and third columns). This submatrix is a 2x2 matrix formed from the top-left portion of the original 3x3 matrix `M`.\n"
   ]
  },
  {
   "cell_type": "markdown",
   "metadata": {
    "id": "esyvXlfSHMw2"
   },
   "source": [
    "**Warning**\n",
    "\n",
    "**Question (stackoverflow):**\n",
    "When I multiply two numpy arrays of sizes (n x n)*(n x 1), I get a matrix of size (n x n). Following normal matrix multiplication rules, a (n x 1) vector is expected, but I simply cannot find any information about how this is done in Python's Numpy module."
   ]
  },
  {
   "cell_type": "code",
   "execution_count": 33,
   "metadata": {
    "colab": {
     "base_uri": "https://localhost:8080/"
    },
    "id": "PmmFhlo7HU6r",
    "outputId": "37261bda-0b80-4ded-c536-2fd6642c7317"
   },
   "outputs": [
    {
     "name": "stdout",
     "output_type": "stream",
     "text": [
      "[[1 2 3]\n",
      " [4 5 6]]\n",
      "(2, 3)\n"
     ]
    }
   ],
   "source": [
    "M = np.array([[1,2,3],[4,5,6]])\n",
    "print(M)\n",
    "print(M.shape)"
   ]
  },
  {
   "cell_type": "code",
   "execution_count": 34,
   "metadata": {
    "colab": {
     "base_uri": "https://localhost:8080/"
    },
    "id": "IpIDysANHw0f",
    "outputId": "9a249477-f51d-401c-8742-99bf4c0bb697"
   },
   "outputs": [
    {
     "name": "stdout",
     "output_type": "stream",
     "text": [
      "[1 2 3]\n",
      "(3,)\n"
     ]
    }
   ],
   "source": [
    "v = np.array([1,2,3])\n",
    "print(v)\n",
    "print(v.shape)"
   ]
  },
  {
   "cell_type": "code",
   "execution_count": 35,
   "metadata": {
    "colab": {
     "base_uri": "https://localhost:8080/"
    },
    "id": "Osad5XMRH1ZH",
    "outputId": "cec36995-fe59-46ff-b8e5-22ac04335a8c"
   },
   "outputs": [
    {
     "name": "stdout",
     "output_type": "stream",
     "text": [
      "[[1 2 3]\n",
      " [4 5 6]]\n",
      "shape of M (2, 3)\n",
      "type of M <class 'numpy.ndarray'>\n"
     ]
    }
   ],
   "source": [
    "print(M)\n",
    "print(\"shape of M\", M.shape)\n",
    "print(\"type of M\", type(M))"
   ]
  },
  {
   "cell_type": "code",
   "execution_count": null,
   "metadata": {
    "colab": {
     "base_uri": "https://localhost:8080/"
    },
    "id": "e47DPD4kH3WI",
    "outputId": "249e4369-d94a-4f14-ae03-6da13ac9fb76"
   },
   "outputs": [
    {
     "name": "stdout",
     "output_type": "stream",
     "text": [
      "[1 2 3]\n",
      "shape of v (3,)\n",
      "type of v <class 'numpy.ndarray'>\n"
     ]
    }
   ],
   "source": [
    "print(v)\n",
    "print(\"shape of v\", v.shape)\n",
    "print(\"type of v\", type(v))"
   ]
  },
  {
   "cell_type": "code",
   "execution_count": null,
   "metadata": {
    "colab": {
     "base_uri": "https://localhost:8080/"
    },
    "id": "kJRQZw_OH5xW",
    "outputId": "1de8dfd4-21c8-473e-9228-b1189009bb23"
   },
   "outputs": [
    {
     "name": "stdout",
     "output_type": "stream",
     "text": [
      "[[ 1  4  9]\n",
      " [ 4 10 18]]\n"
     ]
    }
   ],
   "source": [
    "print(M*v)"
   ]
  },
  {
   "cell_type": "code",
   "execution_count": null,
   "metadata": {
    "id": "FXC4RnomI_c3"
   },
   "outputs": [],
   "source": [
    "n = M*v"
   ]
  },
  {
   "cell_type": "code",
   "execution_count": null,
   "metadata": {
    "colab": {
     "base_uri": "https://localhost:8080/"
    },
    "id": "Fsk8gX4MJFsP",
    "outputId": "88647e85-1dd6-4faf-cb94-4db8f0f86fba"
   },
   "outputs": [
    {
     "name": "stdout",
     "output_type": "stream",
     "text": [
      "[[ 1  4  9]\n",
      " [ 4 10 18]]\n",
      "shape of n (2, 3)\n",
      "type of n <class 'numpy.ndarray'>\n"
     ]
    }
   ],
   "source": [
    "print(n)\n",
    "print(\"shape of n\", n.shape)\n",
    "print(\"type of n\", type(n))"
   ]
  },
  {
   "cell_type": "markdown",
   "metadata": {
    "id": "TX9IjwFsJfGl"
   },
   "source": [
    "\n",
    " **Solution**\n",
    "\n",
    " In NumPy, when you multiply a (n x n) matrix by a (n x 1) column vector using the np.dot() function or the @ operator (matrix multiplication operator), the result will indeed be a (n x 1) column vector, which is the expected behavior based on matrix multiplication rule"
   ]
  },
  {
   "cell_type": "code",
   "execution_count": 12,
   "metadata": {
    "id": "H9hz-3vWJKK0"
   },
   "outputs": [],
   "source": [
    "p = M@v"
   ]
  },
  {
   "cell_type": "code",
   "execution_count": 13,
   "metadata": {
    "colab": {
     "base_uri": "https://localhost:8080/"
    },
    "id": "6KGVra1EJUek",
    "outputId": "c2faaed9-3fb1-4ef9-bce1-0034e2c0e518"
   },
   "outputs": [
    {
     "name": "stdout",
     "output_type": "stream",
     "text": [
      "[[14]\n",
      " [32]\n",
      " [50]]\n",
      "shape of p (3, 1)\n",
      "type of p <class 'numpy.ndarray'>\n"
     ]
    }
   ],
   "source": [
    "print(p)\n",
    "print(\"shape of p\", p.shape)\n",
    "print(\"type of p\", type(p))"
   ]
  },
  {
   "cell_type": "code",
   "execution_count": 14,
   "metadata": {
    "id": "XQQGTWK4JcSC"
   },
   "outputs": [],
   "source": [
    "q = np.dot(M,v)"
   ]
  },
  {
   "cell_type": "code",
   "execution_count": 15,
   "metadata": {
    "colab": {
     "base_uri": "https://localhost:8080/"
    },
    "id": "dDDAdjZnJzC0",
    "outputId": "c951d506-23ca-4aa3-de66-8db19ab21c1c"
   },
   "outputs": [
    {
     "name": "stdout",
     "output_type": "stream",
     "text": [
      "[[14]\n",
      " [32]\n",
      " [50]]\n",
      "shape of q (3, 1)\n",
      "type of q <class 'numpy.ndarray'>\n"
     ]
    }
   ],
   "source": [
    "print(q)\n",
    "print(\"shape of q\", q.shape)\n",
    "print(\"type of q\", type(q))"
   ]
  },
  {
   "cell_type": "code",
   "execution_count": 43,
   "metadata": {
    "id": "oqG0ZT8zJ3i2"
   },
   "outputs": [],
   "source": [
    "\n"
   ]
  },
  {
   "cell_type": "code",
   "execution_count": null,
   "metadata": {
    "id": "aNPAL42rUPOv"
   },
   "outputs": [],
   "source": [
    "\n"
   ]
  }
 ],
 "metadata": {
  "colab": {
   "provenance": []
  },
  "kernelspec": {
   "display_name": "Python 3 (ipykernel)",
   "language": "python",
   "name": "python3"
  },
  "language_info": {
   "codemirror_mode": {
    "name": "ipython",
    "version": 3
   },
   "file_extension": ".py",
   "mimetype": "text/x-python",
   "name": "python",
   "nbconvert_exporter": "python",
   "pygments_lexer": "ipython3",
   "version": "3.7.16"
  }
 },
 "nbformat": 4,
 "nbformat_minor": 1
}
